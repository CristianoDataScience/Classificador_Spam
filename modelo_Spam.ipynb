{
  "nbformat": 4,
  "nbformat_minor": 0,
  "metadata": {
    "colab": {
      "name": "modelo_Spam.ipynb",
      "provenance": [],
      "mount_file_id": "1Ms7G9MOiKdV9jqdrXdFBfbTX2Kpvs1OM",
      "authorship_tag": "ABX9TyN7I2EfwxPI+68qr0HO2U/9",
      "include_colab_link": true
    },
    "kernelspec": {
      "name": "python3",
      "display_name": "Python 3"
    },
    "language_info": {
      "name": "python"
    }
  },
  "cells": [
    {
      "cell_type": "markdown",
      "metadata": {
        "id": "view-in-github",
        "colab_type": "text"
      },
      "source": [
        "<a href=\"https://colab.research.google.com/github/CristianoDataScience/Classificador_Spam/blob/main/modelo_Spam.ipynb\" target=\"_parent\"><img src=\"https://colab.research.google.com/assets/colab-badge.svg\" alt=\"Open In Colab\"/></a>"
      ]
    },
    {
      "cell_type": "markdown",
      "source": [
        "# Importando Bibliotecas"
      ],
      "metadata": {
        "id": "YACQgmcZST9b"
      }
    },
    {
      "cell_type": "code",
      "execution_count": 24,
      "metadata": {
        "id": "co9qdR2V6QnG"
      },
      "outputs": [],
      "source": [
        "import pandas as pd\n",
        "import numpy as np\n",
        "import tensorflow as tf\n",
        "import sys\n",
        "\n",
        "from sklearn.model_selection import train_test_split\n",
        "from sklearn import metrics\n",
        "from sklearn.metrics import confusion_matrix, accuracy_score\n",
        "from sklearn.ensemble import RandomForestClassifier\n",
        "from sklearn.feature_extraction.text import TfidfVectorizer, CountVectorizer\n",
        "from sklearn.preprocessing import LabelEncoder\n",
        "\n",
        "from keras.models import Sequential\n",
        "from keras.layers import Dense, Dropout, Flatten, Embedding\n",
        "from keras.preprocessing.text import Tokenizer\n",
        "from keras.preprocessing.sequence import pad_sequences"
      ]
    },
    {
      "cell_type": "markdown",
      "source": [
        "## Importando Base de Dados"
      ],
      "metadata": {
        "id": "aT9x7qXxSdQ5"
      }
    },
    {
      "cell_type": "code",
      "source": [
        "spam = pd.read_csv('/content/drive/MyDrive/Colab Notebooks/spam.csv')\n",
        "spam.head(5)"
      ],
      "metadata": {
        "colab": {
          "base_uri": "https://localhost:8080/",
          "height": 221
        },
        "id": "9OJZZaOg6n0a",
        "outputId": "a82f32d1-c58a-4ab1-b2ff-41451ad4f788"
      },
      "execution_count": 3,
      "outputs": [
        {
          "output_type": "execute_result",
          "data": {
            "text/plain": [
              "  Category                                            Message\n",
              "0      ham  Go until jurong point, crazy.. Available only ...\n",
              "1      ham                      Ok lar... Joking wif u oni...\n",
              "2     spam  Free entry in 2 a wkly comp to win FA Cup fina...\n",
              "3      ham  U dun say so early hor... U c already then say...\n",
              "4      ham  Nah I don't think he goes to usf, he lives aro..."
            ],
            "text/html": [
              "\n",
              "  <div id=\"df-cdefff00-b16a-46a8-ab15-20ac81814300\">\n",
              "    <div class=\"colab-df-container\">\n",
              "      <div>\n",
              "<style scoped>\n",
              "    .dataframe tbody tr th:only-of-type {\n",
              "        vertical-align: middle;\n",
              "    }\n",
              "\n",
              "    .dataframe tbody tr th {\n",
              "        vertical-align: top;\n",
              "    }\n",
              "\n",
              "    .dataframe thead th {\n",
              "        text-align: right;\n",
              "    }\n",
              "</style>\n",
              "<table border=\"1\" class=\"dataframe\">\n",
              "  <thead>\n",
              "    <tr style=\"text-align: right;\">\n",
              "      <th></th>\n",
              "      <th>Category</th>\n",
              "      <th>Message</th>\n",
              "    </tr>\n",
              "  </thead>\n",
              "  <tbody>\n",
              "    <tr>\n",
              "      <th>0</th>\n",
              "      <td>ham</td>\n",
              "      <td>Go until jurong point, crazy.. Available only ...</td>\n",
              "    </tr>\n",
              "    <tr>\n",
              "      <th>1</th>\n",
              "      <td>ham</td>\n",
              "      <td>Ok lar... Joking wif u oni...</td>\n",
              "    </tr>\n",
              "    <tr>\n",
              "      <th>2</th>\n",
              "      <td>spam</td>\n",
              "      <td>Free entry in 2 a wkly comp to win FA Cup fina...</td>\n",
              "    </tr>\n",
              "    <tr>\n",
              "      <th>3</th>\n",
              "      <td>ham</td>\n",
              "      <td>U dun say so early hor... U c already then say...</td>\n",
              "    </tr>\n",
              "    <tr>\n",
              "      <th>4</th>\n",
              "      <td>ham</td>\n",
              "      <td>Nah I don't think he goes to usf, he lives aro...</td>\n",
              "    </tr>\n",
              "  </tbody>\n",
              "</table>\n",
              "</div>\n",
              "      <button class=\"colab-df-convert\" onclick=\"convertToInteractive('df-cdefff00-b16a-46a8-ab15-20ac81814300')\"\n",
              "              title=\"Convert this dataframe to an interactive table.\"\n",
              "              style=\"display:none;\">\n",
              "        \n",
              "  <svg xmlns=\"http://www.w3.org/2000/svg\" height=\"24px\"viewBox=\"0 0 24 24\"\n",
              "       width=\"24px\">\n",
              "    <path d=\"M0 0h24v24H0V0z\" fill=\"none\"/>\n",
              "    <path d=\"M18.56 5.44l.94 2.06.94-2.06 2.06-.94-2.06-.94-.94-2.06-.94 2.06-2.06.94zm-11 1L8.5 8.5l.94-2.06 2.06-.94-2.06-.94L8.5 2.5l-.94 2.06-2.06.94zm10 10l.94 2.06.94-2.06 2.06-.94-2.06-.94-.94-2.06-.94 2.06-2.06.94z\"/><path d=\"M17.41 7.96l-1.37-1.37c-.4-.4-.92-.59-1.43-.59-.52 0-1.04.2-1.43.59L10.3 9.45l-7.72 7.72c-.78.78-.78 2.05 0 2.83L4 21.41c.39.39.9.59 1.41.59.51 0 1.02-.2 1.41-.59l7.78-7.78 2.81-2.81c.8-.78.8-2.07 0-2.86zM5.41 20L4 18.59l7.72-7.72 1.47 1.35L5.41 20z\"/>\n",
              "  </svg>\n",
              "      </button>\n",
              "      \n",
              "  <style>\n",
              "    .colab-df-container {\n",
              "      display:flex;\n",
              "      flex-wrap:wrap;\n",
              "      gap: 12px;\n",
              "    }\n",
              "\n",
              "    .colab-df-convert {\n",
              "      background-color: #E8F0FE;\n",
              "      border: none;\n",
              "      border-radius: 50%;\n",
              "      cursor: pointer;\n",
              "      display: none;\n",
              "      fill: #1967D2;\n",
              "      height: 32px;\n",
              "      padding: 0 0 0 0;\n",
              "      width: 32px;\n",
              "    }\n",
              "\n",
              "    .colab-df-convert:hover {\n",
              "      background-color: #E2EBFA;\n",
              "      box-shadow: 0px 1px 2px rgba(60, 64, 67, 0.3), 0px 1px 3px 1px rgba(60, 64, 67, 0.15);\n",
              "      fill: #174EA6;\n",
              "    }\n",
              "\n",
              "    [theme=dark] .colab-df-convert {\n",
              "      background-color: #3B4455;\n",
              "      fill: #D2E3FC;\n",
              "    }\n",
              "\n",
              "    [theme=dark] .colab-df-convert:hover {\n",
              "      background-color: #434B5C;\n",
              "      box-shadow: 0px 1px 3px 1px rgba(0, 0, 0, 0.15);\n",
              "      filter: drop-shadow(0px 1px 2px rgba(0, 0, 0, 0.3));\n",
              "      fill: #FFFFFF;\n",
              "    }\n",
              "  </style>\n",
              "\n",
              "      <script>\n",
              "        const buttonEl =\n",
              "          document.querySelector('#df-cdefff00-b16a-46a8-ab15-20ac81814300 button.colab-df-convert');\n",
              "        buttonEl.style.display =\n",
              "          google.colab.kernel.accessAllowed ? 'block' : 'none';\n",
              "\n",
              "        async function convertToInteractive(key) {\n",
              "          const element = document.querySelector('#df-cdefff00-b16a-46a8-ab15-20ac81814300');\n",
              "          const dataTable =\n",
              "            await google.colab.kernel.invokeFunction('convertToInteractive',\n",
              "                                                     [key], {});\n",
              "          if (!dataTable) return;\n",
              "\n",
              "          const docLinkHtml = 'Like what you see? Visit the ' +\n",
              "            '<a target=\"_blank\" href=https://colab.research.google.com/notebooks/data_table.ipynb>data table notebook</a>'\n",
              "            + ' to learn more about interactive tables.';\n",
              "          element.innerHTML = '';\n",
              "          dataTable['output_type'] = 'display_data';\n",
              "          await google.colab.output.renderOutput(dataTable, element);\n",
              "          const docLink = document.createElement('div');\n",
              "          docLink.innerHTML = docLinkHtml;\n",
              "          element.appendChild(docLink);\n",
              "        }\n",
              "      </script>\n",
              "    </div>\n",
              "  </div>\n",
              "  "
            ]
          },
          "metadata": {},
          "execution_count": 3
        }
      ]
    },
    {
      "cell_type": "code",
      "source": [
        "spam.shape"
      ],
      "metadata": {
        "colab": {
          "base_uri": "https://localhost:8080/"
        },
        "id": "pMcU2aBj6159",
        "outputId": "63b7219e-497f-404f-df76-730914f6dacc"
      },
      "execution_count": 4,
      "outputs": [
        {
          "output_type": "execute_result",
          "data": {
            "text/plain": [
              "(5572, 2)"
            ]
          },
          "metadata": {},
          "execution_count": 4
        }
      ]
    },
    {
      "cell_type": "code",
      "source": [
        "spam['Category'].value_counts()"
      ],
      "metadata": {
        "colab": {
          "base_uri": "https://localhost:8080/"
        },
        "id": "f4zATuE-BNpS",
        "outputId": "b91fbdfd-55c5-4d61-af60-6920f03bdc9b"
      },
      "execution_count": 5,
      "outputs": [
        {
          "output_type": "execute_result",
          "data": {
            "text/plain": [
              "ham     4825\n",
              "spam     747\n",
              "Name: Category, dtype: int64"
            ]
          },
          "metadata": {},
          "execution_count": 5
        }
      ]
    },
    {
      "cell_type": "code",
      "source": [
        "# Vetorizando a coluna 'Message'\n",
        "previ = spam['Message']\n",
        "classe = spam['Category']\n",
        "vetorizador = TfidfVectorizer()\n",
        "previsores = vetorizador.fit_transform(previ)\n",
        "print(previsores.shape)"
      ],
      "metadata": {
        "colab": {
          "base_uri": "https://localhost:8080/"
        },
        "id": "mTs1zxcOBS7g",
        "outputId": "b94311a0-967d-4ce1-99a1-4f1601e9d9a9"
      },
      "execution_count": 6,
      "outputs": [
        {
          "output_type": "stream",
          "name": "stdout",
          "text": [
            "(5572, 8709)\n"
          ]
        }
      ]
    },
    {
      "cell_type": "code",
      "source": [
        "print(vetorizador.get_feature_names_out()[10:100])"
      ],
      "metadata": {
        "colab": {
          "base_uri": "https://localhost:8080/"
        },
        "id": "MUMQiGvwBbPp",
        "outputId": "0f1541f0-1f28-4f36-a12f-7e50801082b3"
      },
      "execution_count": 7,
      "outputs": [
        {
          "output_type": "stream",
          "name": "stdout",
          "text": [
            "['0207' '02072069400' '02073162414' '02085076972' '021' '03' '04' '0430'\n",
            " '05' '050703' '0578' '06' '07' '07008009200' '07046744435' '07090201529'\n",
            " '07090298926' '07099833605' '07123456789' '0721072' '07732584351'\n",
            " '07734396839' '07742676969' '07753741225' '0776xxxxxxx' '07781482378'\n",
            " '07786200117' '077xxx' '078' '07801543489' '07808' '07808247860'\n",
            " '07808726822' '07815296484' '07821230901' '078498' '07880867867'\n",
            " '0789xxxxxxx' '07946746291' '0796xxxxxx' '07973788240' '07xxxxxxxxx' '08'\n",
            " '0800' '08000407165' '08000776320' '08000839402' '08000930705'\n",
            " '08000938767' '08001950382' '08002888812' '08002986030' '08002986906'\n",
            " '08002988890' '08006344447' '0808' '08081263000' '08081560665' '0825'\n",
            " '083' '0844' '08448350055' '08448714184' '0845' '08450542832'\n",
            " '08452810071' '08452810073' '08452810075over18' '0870' '08700435505150p'\n",
            " '08700469649' '08700621170150p' '08701213186' '08701237397' '08701417012'\n",
            " '08701417012150p' '0870141701216' '087016248' '08701752560'\n",
            " '087018728737' '0870241182716' '08702490080' '08702840625' '08704050406'\n",
            " '08704439680' '08704439680ts' '08706091795' '0870737910216yrs'\n",
            " '08707500020' '08707509020']\n"
          ]
        }
      ]
    },
    {
      "cell_type": "markdown",
      "source": [
        "### Modelo de Treino e Teste RandomForestClassifier"
      ],
      "metadata": {
        "id": "H2PcgsCGSl7k"
      }
    },
    {
      "cell_type": "code",
      "source": [
        "X_treinamento, X_teste, y_treinamento,y_teste = train_test_split(previsores, classe, test_size=0.3)"
      ],
      "metadata": {
        "id": "Tubwe_UxDFPF"
      },
      "execution_count": 8,
      "outputs": []
    },
    {
      "cell_type": "code",
      "source": [
        "floresta = RandomForestClassifier(n_estimators=1000)\n",
        "floresta.fit(X_treinamento,y_treinamento)"
      ],
      "metadata": {
        "colab": {
          "base_uri": "https://localhost:8080/"
        },
        "id": "B4hCS8HfKUYN",
        "outputId": "b2cffa72-9f39-4011-c184-9c323ea3a598"
      },
      "execution_count": 9,
      "outputs": [
        {
          "output_type": "execute_result",
          "data": {
            "text/plain": [
              "RandomForestClassifier(n_estimators=1000)"
            ]
          },
          "metadata": {},
          "execution_count": 9
        }
      ]
    },
    {
      "cell_type": "code",
      "source": [
        "previsoes = floresta.predict(X_teste)\n",
        "print(previsoes)"
      ],
      "metadata": {
        "colab": {
          "base_uri": "https://localhost:8080/"
        },
        "id": "BrY-0IqYLGqw",
        "outputId": "1029a6a7-13b5-44ee-ffd3-3f69b1ab3d82"
      },
      "execution_count": 10,
      "outputs": [
        {
          "output_type": "stream",
          "name": "stdout",
          "text": [
            "['ham' 'ham' 'ham' ... 'ham' 'spam' 'ham']\n"
          ]
        }
      ]
    },
    {
      "cell_type": "markdown",
      "source": [
        "### Matriz de confusão"
      ],
      "metadata": {
        "id": "hWRo4-MZS0E_"
      }
    },
    {
      "cell_type": "code",
      "source": [
        "# Gerando matriz de confusão\n",
        "print(confusion_matrix(y_teste, previsoes))"
      ],
      "metadata": {
        "colab": {
          "base_uri": "https://localhost:8080/"
        },
        "id": "9vCdGKDPLZWU",
        "outputId": "6a5a7810-b052-41f4-e4e1-ceaaa74db577"
      },
      "execution_count": 11,
      "outputs": [
        {
          "output_type": "stream",
          "name": "stdout",
          "text": [
            "[[1433    0]\n",
            " [  44  195]]\n"
          ]
        }
      ]
    },
    {
      "cell_type": "markdown",
      "source": [
        "## Modelo de Classificação e Acurácia \n",
        "* Métricas\n",
        "* Acurácia"
      ],
      "metadata": {
        "id": "aZDACADSTBSG"
      }
    },
    {
      "cell_type": "code",
      "source": [
        "print(accuracy_score(y_teste, previsoes))\n",
        "print(metrics.classification_report(y_teste, previsoes))"
      ],
      "metadata": {
        "colab": {
          "base_uri": "https://localhost:8080/"
        },
        "id": "3CWuKiw_LvBQ",
        "outputId": "11338285-fd64-4db7-967a-132de767c768"
      },
      "execution_count": 12,
      "outputs": [
        {
          "output_type": "stream",
          "name": "stdout",
          "text": [
            "0.9736842105263158\n",
            "              precision    recall  f1-score   support\n",
            "\n",
            "         ham       0.97      1.00      0.98      1433\n",
            "        spam       1.00      0.82      0.90       239\n",
            "\n",
            "    accuracy                           0.97      1672\n",
            "   macro avg       0.99      0.91      0.94      1672\n",
            "weighted avg       0.97      0.97      0.97      1672\n",
            "\n"
          ]
        }
      ]
    },
    {
      "cell_type": "code",
      "source": [
        "labelencoder = LabelEncoder()\n",
        "y = labelencoder.fit_transform(spam['Category'])\n",
        "print(y)"
      ],
      "metadata": {
        "colab": {
          "base_uri": "https://localhost:8080/"
        },
        "id": "1vK3aAw4MKgx",
        "outputId": "779e5933-4ec7-4ef4-ee0f-ce49fb0f4e81"
      },
      "execution_count": 13,
      "outputs": [
        {
          "output_type": "stream",
          "name": "stdout",
          "text": [
            "[0 0 1 ... 0 0 0]\n"
          ]
        }
      ]
    },
    {
      "cell_type": "code",
      "source": [
        "mensagens = spam['Message'].values\n",
        "X_train,X_test,y_train,y_test = train_test_split(mensagens, y, test_size=0.3)\n",
        "print(X_train)"
      ],
      "metadata": {
        "colab": {
          "base_uri": "https://localhost:8080/"
        },
        "id": "_5OZbNVvQYJw",
        "outputId": "d961cecf-b68c-4494-ab95-d55c3b2a5ba9"
      },
      "execution_count": 14,
      "outputs": [
        {
          "output_type": "stream",
          "name": "stdout",
          "text": [
            "['Actually fuck that, just do whatever, do find an excuse to be in tampa at some point before january though'\n",
            " '&lt;DECIMAL&gt; m but its not a common car here so its better to buy from china or asia. Or if i find it less expensive. I.ll holla'\n",
            " 'Shall i come to get pickle' ... \"I wonder if you'll get this text?\"\n",
            " 'Ok lor thanx... Ü in school?'\n",
            " 'Ma head dey swell oh. Thanks for making my day']\n"
          ]
        }
      ]
    },
    {
      "cell_type": "markdown",
      "source": [
        "## Vetorizando os modelos "
      ],
      "metadata": {
        "id": "Zv_f-rhUTS6h"
      }
    },
    {
      "cell_type": "code",
      "source": [
        "vetorizadores = CountVectorizer()\n",
        "vetorizadores.fit(X_train)\n",
        "X_train = vetorizadores.transform(X_train)\n",
        "X_test = vetorizadores.transform(X_test)\n",
        "print(X_train.toarray())"
      ],
      "metadata": {
        "colab": {
          "base_uri": "https://localhost:8080/"
        },
        "id": "Ecrollh1S_L2",
        "outputId": "02e8ac59-8ac9-4ca8-a4f7-3ce285fec91c"
      },
      "execution_count": 15,
      "outputs": [
        {
          "output_type": "stream",
          "name": "stdout",
          "text": [
            "[[0 0 0 ... 0 0 0]\n",
            " [0 0 0 ... 0 0 0]\n",
            " [0 0 0 ... 0 0 0]\n",
            " ...\n",
            " [0 0 0 ... 0 0 0]\n",
            " [0 0 0 ... 0 0 0]\n",
            " [0 0 0 ... 0 0 0]]\n"
          ]
        }
      ]
    },
    {
      "cell_type": "markdown",
      "source": [
        "## Criando o modelo Sequecial \"Keras\""
      ],
      "metadata": {
        "id": "i6SY1eEmTZeR"
      }
    },
    {
      "cell_type": "code",
      "source": [
        "modelo = Sequential()\n",
        "modelo.add(Dense(units=10,activation='relu',input_dim=X_train.shape[1]))\n",
        "modelo.add(Dropout(0.1))\n",
        "modelo.add(Dense(units=8,activation='relu'))\n",
        "modelo.add(Dropout(0.1))\n",
        "modelo.add(Dense(units=1,activation='sigmoid'))"
      ],
      "metadata": {
        "id": "jMVE3H30TvRO"
      },
      "execution_count": 16,
      "outputs": []
    },
    {
      "cell_type": "code",
      "source": [
        "modelo.compile(loss='mean_squared_error',optimizer='adam',metrics=['accuracy'])\n",
        "modelo.summary()"
      ],
      "metadata": {
        "colab": {
          "base_uri": "https://localhost:8080/"
        },
        "id": "oCwCELngVf55",
        "outputId": "a2720f40-b68e-4d36-921a-ed8bf6d53f2d"
      },
      "execution_count": 17,
      "outputs": [
        {
          "output_type": "stream",
          "name": "stdout",
          "text": [
            "Model: \"sequential\"\n",
            "_________________________________________________________________\n",
            " Layer (type)                Output Shape              Param #   \n",
            "=================================================================\n",
            " dense (Dense)               (None, 10)                72890     \n",
            "                                                                 \n",
            " dropout (Dropout)           (None, 10)                0         \n",
            "                                                                 \n",
            " dense_1 (Dense)             (None, 8)                 88        \n",
            "                                                                 \n",
            " dropout_1 (Dropout)         (None, 8)                 0         \n",
            "                                                                 \n",
            " dense_2 (Dense)             (None, 1)                 9         \n",
            "                                                                 \n",
            "=================================================================\n",
            "Total params: 72,987\n",
            "Trainable params: 72,987\n",
            "Non-trainable params: 0\n",
            "_________________________________________________________________\n"
          ]
        }
      ]
    },
    {
      "cell_type": "code",
      "source": [
        "modelo.fit(X_train, y_train, epochs=20, batch_size=10, verbose=True, validation_data=(X_test, y_test))"
      ],
      "metadata": {
        "colab": {
          "base_uri": "https://localhost:8080/"
        },
        "id": "0H5lolXzWdNv",
        "outputId": "dddc9e6c-2dbd-4989-aefa-f6520167ce49"
      },
      "execution_count": null,
      "outputs": [
        {
          "output_type": "stream",
          "name": "stdout",
          "text": [
            "Epoch 1/20\n"
          ]
        },
        {
          "output_type": "stream",
          "name": "stderr",
          "text": [
            "/usr/local/lib/python3.7/dist-packages/tensorflow/python/framework/indexed_slices.py:446: UserWarning: Converting sparse IndexedSlices(IndexedSlices(indices=Tensor(\"gradient_tape/sequential/dense/embedding_lookup_sparse/Reshape_1:0\", shape=(None,), dtype=int32), values=Tensor(\"gradient_tape/sequential/dense/embedding_lookup_sparse/Reshape:0\", shape=(None, 10), dtype=float32), dense_shape=Tensor(\"gradient_tape/sequential/dense/embedding_lookup_sparse/Cast:0\", shape=(2,), dtype=int32))) to a dense Tensor of unknown shape. This may consume a large amount of memory.\n",
            "  \"shape. This may consume a large amount of memory.\" % value)\n"
          ]
        },
        {
          "output_type": "stream",
          "name": "stdout",
          "text": [
            "390/390 [==============================] - 3s 5ms/step - loss: 0.0937 - accuracy: 0.9331 - val_loss: 0.0235 - val_accuracy: 0.9749\n",
            "Epoch 2/20\n",
            "390/390 [==============================] - 2s 4ms/step - loss: 0.0144 - accuracy: 0.9887 - val_loss: 0.0192 - val_accuracy: 0.9773\n",
            "Epoch 3/20\n",
            "390/390 [==============================] - 2s 4ms/step - loss: 0.0059 - accuracy: 0.9956 - val_loss: 0.0185 - val_accuracy: 0.9779\n",
            "Epoch 4/20\n",
            "390/390 [==============================] - 2s 4ms/step - loss: 0.0039 - accuracy: 0.9962 - val_loss: 0.0183 - val_accuracy: 0.9791\n",
            "Epoch 5/20\n",
            "390/390 [==============================] - 2s 5ms/step - loss: 0.0032 - accuracy: 0.9969 - val_loss: 0.0174 - val_accuracy: 0.9797\n",
            "Epoch 6/20\n",
            "390/390 [==============================] - 2s 4ms/step - loss: 0.0023 - accuracy: 0.9982 - val_loss: 0.0178 - val_accuracy: 0.9809\n",
            "Epoch 7/20\n",
            "390/390 [==============================] - 1s 4ms/step - loss: 0.0024 - accuracy: 0.9979 - val_loss: 0.0183 - val_accuracy: 0.9791\n",
            "Epoch 8/20\n",
            "390/390 [==============================] - 2s 4ms/step - loss: 0.0016 - accuracy: 0.9987 - val_loss: 0.0184 - val_accuracy: 0.9803\n",
            "Epoch 9/20\n",
            "390/390 [==============================] - 2s 4ms/step - loss: 0.0017 - accuracy: 0.9990 - val_loss: 0.0183 - val_accuracy: 0.9797\n",
            "Epoch 10/20\n",
            "390/390 [==============================] - 2s 4ms/step - loss: 0.0015 - accuracy: 0.9990 - val_loss: 0.0188 - val_accuracy: 0.9785\n",
            "Epoch 11/20\n",
            "390/390 [==============================] - 2s 4ms/step - loss: 0.0011 - accuracy: 0.9992 - val_loss: 0.0189 - val_accuracy: 0.9791\n",
            "Epoch 12/20\n",
            "390/390 [==============================] - 2s 4ms/step - loss: 0.0012 - accuracy: 0.9992 - val_loss: 0.0185 - val_accuracy: 0.9797\n",
            "Epoch 13/20\n",
            "390/390 [==============================] - 2s 4ms/step - loss: 0.0012 - accuracy: 0.9985 - val_loss: 0.0183 - val_accuracy: 0.9797\n",
            "Epoch 14/20\n",
            "390/390 [==============================] - 2s 4ms/step - loss: 9.8143e-04 - accuracy: 0.9995 - val_loss: 0.0184 - val_accuracy: 0.9797\n",
            "Epoch 15/20\n",
            "390/390 [==============================] - 2s 4ms/step - loss: 6.9267e-04 - accuracy: 0.9995 - val_loss: 0.0186 - val_accuracy: 0.9791\n",
            "Epoch 16/20\n",
            "390/390 [==============================] - 1s 4ms/step - loss: 7.6498e-04 - accuracy: 0.9995 - val_loss: 0.0191 - val_accuracy: 0.9797\n",
            "Epoch 17/20\n",
            "390/390 [==============================] - 1s 4ms/step - loss: 7.4993e-04 - accuracy: 0.9995 - val_loss: 0.0181 - val_accuracy: 0.9797\n",
            "Epoch 18/20\n",
            "390/390 [==============================] - 2s 4ms/step - loss: 6.7758e-04 - accuracy: 0.9995 - val_loss: 0.0184 - val_accuracy: 0.9797\n",
            "Epoch 19/20\n",
            "390/390 [==============================] - 2s 4ms/step - loss: 5.9292e-04 - accuracy: 0.9995 - val_loss: 0.0182 - val_accuracy: 0.9809\n",
            "Epoch 20/20\n",
            "390/390 [==============================] - 1s 4ms/step - loss: 6.1133e-04 - accuracy: 0.9995 - val_loss: 0.0188 - val_accuracy: 0.9797\n"
          ]
        },
        {
          "output_type": "execute_result",
          "data": {
            "text/plain": [
              "<keras.callbacks.History at 0x7f446c7d8cd0>"
            ]
          },
          "metadata": {},
          "execution_count": 31
        }
      ]
    },
    {
      "cell_type": "code",
      "source": [
        "loss, accuracy = modelo.evaluate(X_test, y_test)\n",
        "print('Loss ', loss)\n",
        "print('Acurácia ', accuracy)\n"
      ],
      "metadata": {
        "id": "6qSgNUGzX77c",
        "colab": {
          "base_uri": "https://localhost:8080/"
        },
        "outputId": "221db6e5-c1be-4cd3-94f6-00968d1a6e5a"
      },
      "execution_count": 19,
      "outputs": [
        {
          "output_type": "stream",
          "name": "stdout",
          "text": [
            "53/53 [==============================] - 1s 1ms/step - loss: 0.2531 - accuracy: 0.2033\n",
            "Loss  0.253083199262619\n",
            "Acurácia  0.2033492773771286\n"
          ]
        }
      ]
    },
    {
      "cell_type": "code",
      "source": [
        "nova_previsao = modelo.predict(X_test)\n",
        "print(nova_previsao)"
      ],
      "metadata": {
        "colab": {
          "base_uri": "https://localhost:8080/"
        },
        "id": "7SDnNlfQJfX7",
        "outputId": "877934b3-c3e1-42ce-9f3e-77e941fa9ce1"
      },
      "execution_count": 20,
      "outputs": [
        {
          "output_type": "stream",
          "name": "stdout",
          "text": [
            "[[0.51340383]\n",
            " [0.5006554 ]\n",
            " [0.50002784]\n",
            " ...\n",
            " [0.50541353]\n",
            " [0.5041364 ]\n",
            " [0.4998879 ]]\n"
          ]
        }
      ]
    },
    {
      "cell_type": "code",
      "source": [
        "prev = (nova_previsao > 0.5)\n",
        "print(prev)"
      ],
      "metadata": {
        "colab": {
          "base_uri": "https://localhost:8080/"
        },
        "id": "5zmw1qBfJqGn",
        "outputId": "fd246a3e-8d0c-44e4-cb1e-74ca75473665"
      },
      "execution_count": 21,
      "outputs": [
        {
          "output_type": "stream",
          "name": "stdout",
          "text": [
            "[[ True]\n",
            " [ True]\n",
            " [ True]\n",
            " ...\n",
            " [ True]\n",
            " [ True]\n",
            " [False]]\n"
          ]
        }
      ]
    },
    {
      "cell_type": "code",
      "source": [
        "cm = confusion_matrix(y_test, prev)\n",
        "print(cm)"
      ],
      "metadata": {
        "colab": {
          "base_uri": "https://localhost:8080/"
        },
        "id": "ikTpFhhTKlPN",
        "outputId": "b67fbeaf-a86a-4181-93b4-ec38a519eb74"
      },
      "execution_count": 23,
      "outputs": [
        {
          "output_type": "stream",
          "name": "stdout",
          "text": [
            "[[ 151 1300]\n",
            " [  32  189]]\n"
          ]
        }
      ]
    },
    {
      "cell_type": "code",
      "source": [
        ""
      ],
      "metadata": {
        "id": "n8aPVEKfKvBG"
      },
      "execution_count": null,
      "outputs": []
    }
  ]
}